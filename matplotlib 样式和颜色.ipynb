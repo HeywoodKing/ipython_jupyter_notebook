{
 "cells": [
  {
   "cell_type": "code",
   "execution_count": null,
   "metadata": {},
   "outputs": [],
   "source": [
    "# matplotlib 作为线性图的替代，可以通过向 plot() 函数添加格式字符串来显示离散值\n",
    "\n",
    "'-'\t实线样式\n",
    "'--'\t短横线样式\n",
    "'-.'\t点划线样式\n",
    "':'\t虚线样式\n",
    "'.'\t点标记\n",
    "','\t像素标记\n",
    "'o'\t圆标记\n",
    "'v'\t倒三角标记\n",
    "'^'\t正三角标记\n",
    "'&lt;'\t左三角标记\n",
    "'&gt;'\t右三角标记\n",
    "'1'\t下箭头标记\n",
    "'2'\t上箭头标记\n",
    "'3'\t左箭头标记\n",
    "'4'\t右箭头标记\n",
    "'s'\t正方形标记\n",
    "'p'\t五边形标记\n",
    "'*'\t星形标记\n",
    "'h'\t六边形标记 1\n",
    "'H'\t六边形标记 2\n",
    "'+'\t加号标记\n",
    "'x'\tX 标记\n",
    "'D'\t菱形标记\n",
    "'d'\t窄菱形标记\n",
    "'&#124;'\t竖直线标记\n",
    "'_'\t水平线标记\n",
    "\n",
    "# 颜色\n",
    "'b'\t蓝色\n",
    "'g'\t绿色\n",
    "'r'\t红色\n",
    "'c'\t青色\n",
    "'m'\t品红色\n",
    "'y'\t黄色\n",
    "'k'\t黑色\n",
    "'w'\t白色"
   ]
  }
 ],
 "metadata": {
  "kernelspec": {
   "display_name": "Python 3",
   "language": "python",
   "name": "python3"
  },
  "language_info": {
   "codemirror_mode": {
    "name": "ipython",
    "version": 3
   },
   "file_extension": ".py",
   "mimetype": "text/x-python",
   "name": "python",
   "nbconvert_exporter": "python",
   "pygments_lexer": "ipython3",
   "version": "3.7.4"
  }
 },
 "nbformat": 4,
 "nbformat_minor": 2
}
