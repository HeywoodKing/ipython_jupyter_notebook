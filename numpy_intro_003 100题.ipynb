{
 "cells": [
  {
   "cell_type": "code",
   "execution_count": 2,
   "metadata": {},
   "outputs": [
    {
     "name": "stdout",
     "output_type": "stream",
     "text": [
      "[inf]\n",
      "[inf]\n"
     ]
    },
    {
     "name": "stderr",
     "output_type": "stream",
     "text": [
      "/usr/local/lib/python3.6/dist-packages/ipykernel_launcher.py:9: RuntimeWarning: divide by zero encountered in true_divide\n",
      "  if __name__ == '__main__':\n"
     ]
    }
   ],
   "source": [
    "import numpy as np\n",
    "\n",
    "# 31. 如何忽略所有的 numpy 警告(尽管不建议这么做)?\n",
    "# 提示: np.seterr, np.errstate\n",
    "defaults = np.seterr(all='ignore')\n",
    "\n",
    "_ = np.seterr(**defaults)\n",
    "\n",
    "z = np.ones(1)/0\n",
    "print(z)\n",
    "\n",
    "with np.errstate(divide='ignore'):\n",
    "    z = np.ones(1)/0\n",
    "    print(z)"
   ]
  },
  {
   "cell_type": "code",
   "execution_count": 4,
   "metadata": {},
   "outputs": [
    {
     "name": "stdout",
     "output_type": "stream",
     "text": [
      "False\n"
     ]
    },
    {
     "name": "stderr",
     "output_type": "stream",
     "text": [
      "/usr/local/lib/python3.6/dist-packages/ipykernel_launcher.py:3: RuntimeWarning: invalid value encountered in sqrt\n",
      "  This is separate from the ipykernel package so we can avoid doing imports until\n"
     ]
    }
   ],
   "source": [
    "# 32. 下面的表达式是正确的吗?\n",
    "# 提示: imaginary number\n",
    "print(np.sqrt(-1) == np.emath.sqrt(-1))"
   ]
  },
  {
   "cell_type": "code",
   "execution_count": 10,
   "metadata": {},
   "outputs": [
    {
     "name": "stdout",
     "output_type": "stream",
     "text": [
      "2020-03-14\n",
      "2020-03-13\n",
      "2020-03-15\n"
     ]
    }
   ],
   "source": [
    "# 33. 如何得到昨天，今天，明天的日期?\n",
    "# 提示: np.datetime64, np.timedelta64\n",
    "\n",
    "today = np.datetime64('today', 'D')\n",
    "print(today)\n",
    "\n",
    "yesterday = np.datetime64('today', 'D') - np.timedelta64(1, 'D')\n",
    "print(yesterday)\n",
    "\n",
    "tomorrow = np.datetime64('today', 'D') + np.timedelta64(1, 'D')\n",
    "print(tomorrow)"
   ]
  },
  {
   "cell_type": "code",
   "execution_count": 14,
   "metadata": {},
   "outputs": [
    {
     "name": "stdout",
     "output_type": "stream",
     "text": [
      "['2016-07-01' '2016-07-02' '2016-07-03' '2016-07-04' '2016-07-05'\n",
      " '2016-07-06' '2016-07-07' '2016-07-08' '2016-07-09' '2016-07-10'\n",
      " '2016-07-11' '2016-07-12' '2016-07-13' '2016-07-14' '2016-07-15'\n",
      " '2016-07-16' '2016-07-17' '2016-07-18' '2016-07-19' '2016-07-20'\n",
      " '2016-07-21' '2016-07-22' '2016-07-23' '2016-07-24' '2016-07-25'\n",
      " '2016-07-26' '2016-07-27' '2016-07-28' '2016-07-29' '2016-07-30'\n",
      " '2016-07-31']\n",
      "['2020-02-01' '2020-02-02' '2020-02-03' '2020-02-04' '2020-02-05'\n",
      " '2020-02-06' '2020-02-07' '2020-02-08' '2020-02-09' '2020-02-10'\n",
      " '2020-02-11' '2020-02-12' '2020-02-13' '2020-02-14' '2020-02-15'\n",
      " '2020-02-16' '2020-02-17' '2020-02-18' '2020-02-19' '2020-02-20'\n",
      " '2020-02-21' '2020-02-22' '2020-02-23' '2020-02-24' '2020-02-25'\n",
      " '2020-02-26' '2020-02-27' '2020-02-28' '2020-02-29']\n"
     ]
    }
   ],
   "source": [
    "# 34. 如何得到所有与2016年7月对应的日期？\n",
    "# 提示: np.arange(dtype=datetime64['D'])\n",
    "z = np.arange('2016-07', '2016-08', dtype='datetime64[D]')\n",
    "print(z)\n",
    "\n",
    "z = np.arange('2020-02', '2020-03', dtype='datetime64[D]')\n",
    "print(z)"
   ]
  },
  {
   "cell_type": "code",
   "execution_count": 25,
   "metadata": {},
   "outputs": [
    {
     "name": "stdout",
     "output_type": "stream",
     "text": [
      "[3. 3. 3.]\n",
      "[0.5 0.5 0.5]\n",
      "[-0.5 -0.5 -0.5]\n",
      "[-1.5 -1.5 -1.5]\n"
     ]
    }
   ],
   "source": [
    "# 35. 如何直接在位计算(A+B)\\*(-A/2)(不建立副本)?\n",
    "A = np.ones(3) * 1\n",
    "B = np.ones(3) * 2\n",
    "C = np.ones(3) * 3\n",
    "\n",
    "np.add(A, B, out=B)\n",
    "print(B)\n",
    "\n",
    "np.divide(A, 2, out=A)\n",
    "print(A)\n",
    "\n",
    "np.negative(A, out=A)\n",
    "print(A)\n",
    "\n",
    "np.multiply(A, B, out=A)\n",
    "print(A)"
   ]
  },
  {
   "cell_type": "code",
   "execution_count": 57,
   "metadata": {},
   "outputs": [
    {
     "name": "stdout",
     "output_type": "stream",
     "text": [
      "[2. 4. 7. 8. 1. 2. 4. 6. 2. 9.]\n",
      "[2. 4. 7. 8. 1. 2. 4. 6. 2. 9.]\n",
      "[2. 4. 7. 8. 1. 2. 4. 6. 2. 9.]\n",
      "[2 4 7 8 1 2 4 6 2 9]\n",
      "[2. 4. 7. 8. 1. 2. 4. 6. 2. 9.]\n"
     ]
    }
   ],
   "source": [
    "# 36. 用五种不同的方法去提取一个随机数组的整数部分\n",
    "# 提示: %, np.floor, np.ceil, astype, np.trunc\n",
    "# z = np.random.rand(10)\n",
    "# z = np.random.random(10)\n",
    "# z = np.random.randint(-10,10, 10)\n",
    "# z = np.random.normal(10, 20, 10)\n",
    "z = np.random.uniform(0, 10, 10)\n",
    "# print(z)\n",
    "# print(z%1)\n",
    "# print(3%1, 2%1, 4.09%1)\n",
    "print(z - z%1)\n",
    "\n",
    "print(np.floor(z))\n",
    "\n",
    "print(np.ceil(z) - 1)\n",
    "\n",
    "print(z.astype(int))\n",
    "\n",
    "print(np.trunc(z))"
   ]
  },
  {
   "cell_type": "code",
   "execution_count": 68,
   "metadata": {},
   "outputs": [
    {
     "name": "stdout",
     "output_type": "stream",
     "text": [
      "[[0. 1. 2. 3. 4.]\n",
      " [0. 1. 2. 3. 4.]\n",
      " [0. 1. 2. 3. 4.]\n",
      " [0. 1. 2. 3. 4.]\n",
      " [0. 1. 2. 3. 4.]]\n"
     ]
    }
   ],
   "source": [
    "# 37. 创建一个5x5的矩阵，其中每行的数值范围从0到4\n",
    "# z = np.ones((5, 5))\n",
    "z = np.zeros((5, 5))\n",
    "z += np.arange(5)\n",
    "print(z)"
   ]
  },
  {
   "cell_type": "code",
   "execution_count": 71,
   "metadata": {},
   "outputs": [
    {
     "name": "stdout",
     "output_type": "stream",
     "text": [
      "[0. 1. 2. 3. 4. 5. 6. 7. 8. 9.]\n"
     ]
    }
   ],
   "source": [
    "# 38. 通过考虑一个可生成10个整数的函数，来构建一个数组\n",
    "# 提示: np.fromiter\n",
    "\n",
    "def generate():\n",
    "    for x in range(10):\n",
    "        yield x\n",
    "\n",
    "z = np.fromiter(generate(), dtype=float, count=-1)\n",
    "print(z)"
   ]
  },
  {
   "cell_type": "code",
   "execution_count": 85,
   "metadata": {},
   "outputs": [
    {
     "name": "stdout",
     "output_type": "stream",
     "text": [
      "[0.40496424 0.20039503 0.18043138 0.57351261 0.60176076 0.31951727\n",
      " 0.84734866 0.67104948 0.52410357 0.30505853]\n",
      "[0.09090909 0.18181818 0.27272727 0.36363636 0.45454545 0.54545455\n",
      " 0.63636364 0.72727273 0.81818182 0.90909091]\n"
     ]
    }
   ],
   "source": [
    "# 39. 创建一个长度为10的随机向量，其值域范围从0到1，但是不包括0和1\n",
    "# 提示: np.linspace\n",
    "z = np.random.rand(10)\n",
    "print(z)\n",
    "\n",
    "# z = np.linspace(0, 1, 11, endpoint=False)\n",
    "z = np.linspace(0, 1, 11, endpoint=False)[1:]\n",
    "print(z)"
   ]
  },
  {
   "cell_type": "code",
   "execution_count": 91,
   "metadata": {},
   "outputs": [
    {
     "name": "stdout",
     "output_type": "stream",
     "text": [
      "[ 0.37577339  0.7382079   0.75879248  0.95827278  1.63694442  1.85243683\n",
      "  1.9427673   2.08167963  2.09891171  2.36736896  2.68706296  2.80532829\n",
      "  2.84009352  2.99341088  3.13422226  3.23187267  3.32947802  3.76457957\n",
      "  4.12272821  4.42646697  4.63197299  4.68205021  5.03443197  5.07365479\n",
      "  5.11630489  5.20829918  5.2130287   5.25324806  5.69116963  6.0737246\n",
      "  6.15940555  6.69144446  6.72345803  6.78956116  7.16297207  7.4224647\n",
      "  7.63370913  7.82226771  7.90098772  8.04698     8.31856146  8.47323177\n",
      "  8.48664539  8.54645101  8.73939625  8.82394786  8.92927912  9.1113285\n",
      "  9.51766483 10.08524903 10.28293389 10.48044887 10.83692124 11.38858713\n",
      " 11.44580074 11.57574364 11.63162631 11.79930481 11.98723527 12.11791732\n",
      " 12.13221036 12.18013813 12.94510881 13.09030401 13.18456967 13.23252528\n",
      " 13.43321099 13.49146125 13.50876953 13.96021667 13.978296   14.05045233\n",
      " 14.19572654 14.31282166 14.52809384 14.57208992 14.64911852 15.10889946\n",
      " 15.51394451 15.59377477 15.62948757 16.17317573 16.28158447 16.28167449\n",
      " 16.38034038 16.58870812 16.75485024 16.78118015 16.81877848 16.91490241\n",
      " 17.1872087  17.35689433 17.47724113 17.68063816 17.85328124 18.1622952\n",
      " 18.60091875 18.73563751 19.05876225 19.7570414 ]\n"
     ]
    }
   ],
   "source": [
    "# 40. 创建一个长度为10的随机向量，并将其排序\n",
    "# z = np.sort(np.random.rand(100))\n",
    "# z = np.sort(np.random.random(100))\n",
    "# z = np.random.normal(0, 20, 100)\n",
    "z = np.random.uniform(0, 20, 100)\n",
    "z.sort()\n",
    "print(z)"
   ]
  },
  {
   "cell_type": "code",
   "execution_count": 98,
   "metadata": {},
   "outputs": [
    {
     "name": "stdout",
     "output_type": "stream",
     "text": [
      "5.59248564596768 5.59248564596768\n"
     ]
    }
   ],
   "source": [
    "# 41.对于一个小数组，如何用比 np.sum更快的方式对其求和？\n",
    "# 提示: np.add.reduce\n",
    "z = np.random.random(10)\n",
    "# print(z)\n",
    "# %timeit s1 = np.sum(z)\n",
    "# %timeit s2 = np.add.reduce(z)\n",
    "s1 = np.sum(z)\n",
    "s2 = np.add.reduce(z)\n",
    "print(s1, s2)"
   ]
  },
  {
   "cell_type": "code",
   "execution_count": 103,
   "metadata": {},
   "outputs": [
    {
     "name": "stdout",
     "output_type": "stream",
     "text": [
      "[ True  True  True  True  True]\n",
      "True\n",
      "True\n"
     ]
    }
   ],
   "source": [
    "# 42. 对于两个随机数组A和B，检查它们是否相等\n",
    "# 提示: np.allclose, np.array_equal\n",
    "A = np.random.randint(0, 2, 5)\n",
    "B = np.random.randint(0, 2, 5)\n",
    "print(A == B)\n",
    "equal = np.allclose(A, B)\n",
    "print(equal)\n",
    "equal = np.array_equal(A, B)\n",
    "print(equal)"
   ]
  },
  {
   "cell_type": "code",
   "execution_count": 106,
   "metadata": {},
   "outputs": [
    {
     "name": "stdout",
     "output_type": "stream",
     "text": [
      "[0. 0. 0. 0. 0. 0. 0. 0. 0. 0.]\n"
     ]
    }
   ],
   "source": [
    "# 43. 创建一个只读数组(read-only)\n",
    "# 提示: flags.writeable\n",
    "z = np.zeros(10)\n",
    "z.flags.writeable = False\n",
    "print(z)\n",
    "# z[1] = 1"
   ]
  },
  {
   "cell_type": "code",
   "execution_count": 110,
   "metadata": {},
   "outputs": [
    {
     "name": "stdout",
     "output_type": "stream",
     "text": [
      "[1.18074959 1.03272904 0.72717031 0.0791748  0.95207447 0.16315444\n",
      " 0.49535874 0.60401755 0.79956932 0.96269857] [0.97376896 1.08273094 0.52098013 1.17216252 1.55971216 0.98952863\n",
      " 0.09478186 0.45746005 1.18879875 0.91058662]\n"
     ]
    }
   ],
   "source": [
    "# 44. 将笛卡尔坐标下的一个10x2的矩阵转换为极坐标形式\n",
    "# hint: np.sqrt, np.arctan2\n",
    "z = np.random.random((10, 2))\n",
    "# print(z)\n",
    "X, Y = z[:,0], z[:,1]\n",
    "# print(X, Y)\n",
    "R = np.sqrt(X**2 + Y**2)\n",
    "T = np.arctan2(Y, X)\n",
    "print(R, T)"
   ]
  },
  {
   "cell_type": "code",
   "execution_count": 127,
   "metadata": {},
   "outputs": [
    {
     "name": "stdout",
     "output_type": "stream",
     "text": [
      "[ 0.33966393  0.42861041  0.49971949  0.52507004  0.56516445  0.64378591\n",
      "  0.66316859  0.66829812  1.         10.        ] 10.0 0.33966393420464214\n"
     ]
    }
   ],
   "source": [
    "# 45. 创建一个长度为10的向量，并将向量中最大值替换为1\n",
    "# 提示: argmax\n",
    "z = np.random.random(10)\n",
    "# z[z.argmax()] = 0\n",
    "z[z.argmax()] = 1\n",
    "z[z.argmin()] = 10\n",
    "z.sort()\n",
    "print(z, z.max(), z.min())"
   ]
  },
  {
   "cell_type": "code",
   "execution_count": 131,
   "metadata": {},
   "outputs": [
    {
     "name": "stdout",
     "output_type": "stream",
     "text": [
      "[[(0.  , 0.  ) (0.25, 0.  ) (0.5 , 0.  ) (0.75, 0.  ) (1.  , 0.  )]\n",
      " [(0.  , 0.25) (0.25, 0.25) (0.5 , 0.25) (0.75, 0.25) (1.  , 0.25)]\n",
      " [(0.  , 0.5 ) (0.25, 0.5 ) (0.5 , 0.5 ) (0.75, 0.5 ) (1.  , 0.5 )]\n",
      " [(0.  , 0.75) (0.25, 0.75) (0.5 , 0.75) (0.75, 0.75) (1.  , 0.75)]\n",
      " [(0.  , 1.  ) (0.25, 1.  ) (0.5 , 1.  ) (0.75, 1.  ) (1.  , 1.  )]]\n"
     ]
    }
   ],
   "source": [
    "# 46. 创建一个结构化数组，并实现 x 和 y 坐标覆盖 [0,1]x[0,1] 区域\n",
    "# (提示: np.meshgrid)\n",
    "z = np.zeros((5,5), [('x', float), ('y', float)])\n",
    "# print(z)\n",
    "z['x'],z['y'] = np.meshgrid(np.linspace(0, 1, 5), np.linspace(0, 1, 5))\n",
    "print(z)"
   ]
  },
  {
   "cell_type": "code",
   "execution_count": 133,
   "metadata": {},
   "outputs": [
    {
     "name": "stdout",
     "output_type": "stream",
     "text": [
      "[[-2.         -0.66666667 -0.4        -0.28571429 -0.22222222 -0.18181818\n",
      "  -0.15384615 -0.13333333]\n",
      " [ 2.         -2.         -0.66666667 -0.4        -0.28571429 -0.22222222\n",
      "  -0.18181818 -0.15384615]\n",
      " [ 0.66666667  2.         -2.         -0.66666667 -0.4        -0.28571429\n",
      "  -0.22222222 -0.18181818]\n",
      " [ 0.4         0.66666667  2.         -2.         -0.66666667 -0.4\n",
      "  -0.28571429 -0.22222222]\n",
      " [ 0.28571429  0.4         0.66666667  2.         -2.         -0.66666667\n",
      "  -0.4        -0.28571429]\n",
      " [ 0.22222222  0.28571429  0.4         0.66666667  2.         -2.\n",
      "  -0.66666667 -0.4       ]\n",
      " [ 0.18181818  0.22222222  0.28571429  0.4         0.66666667  2.\n",
      "  -2.         -0.66666667]\n",
      " [ 0.15384615  0.18181818  0.22222222  0.28571429  0.4         0.66666667\n",
      "   2.         -2.        ]]\n",
      "3638.163637117973\n"
     ]
    }
   ],
   "source": [
    "# 47. 给定两个数组X和Y，构造Cauchy矩阵C (Cij =1/(xi - yj))\n",
    "# 提示: np.subtract.outer\n",
    "x = np.arange(8)\n",
    "y = x + 0.5\n",
    "c = 1.0 / np.subtract.outer(x, y)\n",
    "print(c)\n",
    "print(np.linalg.det(c))"
   ]
  },
  {
   "cell_type": "code",
   "execution_count": 137,
   "metadata": {},
   "outputs": [
    {
     "name": "stdout",
     "output_type": "stream",
     "text": [
      "-128\n",
      "127\n",
      "----------------------------------------------------------------------------------------------------\n",
      "-2147483648\n",
      "2147483647\n",
      "----------------------------------------------------------------------------------------------------\n",
      "-9223372036854775808\n",
      "9223372036854775807\n",
      "----------------------------------------------------------------------------------------------------\n",
      "++++++++++++++++++++++++++++++++++++++++++++++++++++++++++++++++++++++++++++++++++++++++++++++++++++\n",
      "-3.4028235e+38\n",
      "3.4028235e+38\n",
      "1.1920929e-07\n",
      "----------------------------------------------------------------------------------------------------\n",
      "-1.7976931348623157e+308\n",
      "1.7976931348623157e+308\n",
      "2.220446049250313e-16\n",
      "----------------------------------------------------------------------------------------------------\n"
     ]
    }
   ],
   "source": [
    "# 48. 打印每个numpy标量类型的最小值和最大值？\n",
    "# 提示: np.iinfo, np.finfo, eps\n",
    "for dtype in [np.int8,np.int32,np.int64]:\n",
    "    print(np.iinfo(dtype).min)\n",
    "    print(np.iinfo(dtype).max)\n",
    "    print('-' * 100)\n",
    "print('+' * 100)\n",
    "for dtype in [np.float32, np.float64]:\n",
    "    print(np.finfo(dtype).min)\n",
    "    print(np.finfo(dtype).max)\n",
    "    print(np.finfo(dtype).eps)\n",
    "    print('-' * 100)"
   ]
  },
  {
   "cell_type": "code",
   "execution_count": 140,
   "metadata": {},
   "outputs": [
    {
     "name": "stdout",
     "output_type": "stream",
     "text": [
      "[[0. 0. 0. 0. 0. 0. 0. 0. 0. 0. 0. 0. 0. 0. 0. 0.]\n",
      " [0. 0. 0. 0. 0. 0. 0. 0. 0. 0. 0. 0. 0. 0. 0. 0.]\n",
      " [0. 0. 0. 0. 0. 0. 0. 0. 0. 0. 0. 0. 0. 0. 0. 0.]\n",
      " [0. 0. 0. 0. 0. 0. 0. 0. 0. 0. 0. 0. 0. 0. 0. 0.]\n",
      " [0. 0. 0. 0. 0. 0. 0. 0. 0. 0. 0. 0. 0. 0. 0. 0.]\n",
      " [0. 0. 0. 0. 0. 0. 0. 0. 0. 0. 0. 0. 0. 0. 0. 0.]\n",
      " [0. 0. 0. 0. 0. 0. 0. 0. 0. 0. 0. 0. 0. 0. 0. 0.]\n",
      " [0. 0. 0. 0. 0. 0. 0. 0. 0. 0. 0. 0. 0. 0. 0. 0.]\n",
      " [0. 0. 0. 0. 0. 0. 0. 0. 0. 0. 0. 0. 0. 0. 0. 0.]\n",
      " [0. 0. 0. 0. 0. 0. 0. 0. 0. 0. 0. 0. 0. 0. 0. 0.]\n",
      " [0. 0. 0. 0. 0. 0. 0. 0. 0. 0. 0. 0. 0. 0. 0. 0.]\n",
      " [0. 0. 0. 0. 0. 0. 0. 0. 0. 0. 0. 0. 0. 0. 0. 0.]\n",
      " [0. 0. 0. 0. 0. 0. 0. 0. 0. 0. 0. 0. 0. 0. 0. 0.]\n",
      " [0. 0. 0. 0. 0. 0. 0. 0. 0. 0. 0. 0. 0. 0. 0. 0.]\n",
      " [0. 0. 0. 0. 0. 0. 0. 0. 0. 0. 0. 0. 0. 0. 0. 0.]\n",
      " [0. 0. 0. 0. 0. 0. 0. 0. 0. 0. 0. 0. 0. 0. 0. 0.]]\n"
     ]
    }
   ],
   "source": [
    "# 49. 如何打印一个数组中的所有数值?\n",
    "# 提示: np.set_printoptions\n",
    "# np.set_printoptions(threshold=np.nan)\n",
    "\n",
    "z = np.zeros((16, 16))\n",
    "print(z)"
   ]
  },
  {
   "cell_type": "code",
   "execution_count": null,
   "metadata": {},
   "outputs": [],
   "source": []
  }
 ],
 "metadata": {
  "kernelspec": {
   "display_name": "Python 3",
   "language": "python",
   "name": "python3"
  },
  "language_info": {
   "codemirror_mode": {
    "name": "ipython",
    "version": 3
   },
   "file_extension": ".py",
   "mimetype": "text/x-python",
   "name": "python",
   "nbconvert_exporter": "python",
   "pygments_lexer": "ipython3",
   "version": "3.6.9"
  }
 },
 "nbformat": 4,
 "nbformat_minor": 2
}
