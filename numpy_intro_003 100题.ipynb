{
 "cells": [
  {
   "cell_type": "code",
   "execution_count": 2,
   "metadata": {},
   "outputs": [
    {
     "name": "stdout",
     "output_type": "stream",
     "text": [
      "[inf]\n",
      "[inf]\n"
     ]
    }
   ],
   "source": [
    "import numpy as np\n",
    "\n",
    "# 31. 如何忽略所有的 numpy 警告(尽管不建议这么做)?\n",
    "# 提示: np.seterr, np.errstate\n",
    "defaults = np.seterr(all='ignore')\n",
    "\n",
    "_ = np.seterr(**defaults)\n",
    "\n",
    "z = np.ones(1)/0\n",
    "print(z)\n",
    "\n",
    "with np.errstate(divide='ignore'):\n",
    "    z = np.ones(1)/0\n",
    "    print(z)"
   ]
  },
  {
   "cell_type": "code",
   "execution_count": null,
   "metadata": {},
   "outputs": [],
   "source": [
    "# 32. 下面的表达式是正确的吗?\n"
   ]
  }
 ],
 "metadata": {
  "kernelspec": {
   "display_name": "Python 3",
   "language": "python",
   "name": "python3"
  },
  "language_info": {
   "codemirror_mode": {
    "name": "ipython",
    "version": 3
   },
   "file_extension": ".py",
   "mimetype": "text/x-python",
   "name": "python",
   "nbconvert_exporter": "python",
   "pygments_lexer": "ipython3",
   "version": "3.7.4"
  }
 },
 "nbformat": 4,
 "nbformat_minor": 2
}
