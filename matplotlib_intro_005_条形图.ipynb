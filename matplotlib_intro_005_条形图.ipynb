{
 "cells": [
  {
   "cell_type": "code",
   "execution_count": 49,
   "metadata": {},
   "outputs": [
    {
     "data": {
      "image/png": "[encoded data removed]",
      "text/plain": [
       "<Figure size 432x288 with 1 Axes>"
      ]
     },
     "metadata": {
      "needs_background": "light"
     },
     "output_type": "display_data"
    }
   ],
   "source": [
    "#  条形图\n",
    "import numpy as np\n",
    "import matplotlib.pyplot as plt\n",
    "%matplotlib inline\n",
    "\n",
    "N = 5\n",
    "y = [20,10,30,25,15]\n",
    "index = np.arange(N)\n",
    "# p1 = plt.bar(index,y,alpha=0.5, width=0.3, color='yellow',edgecolor='red', label='The First Bar', lw=3);\n",
    "# plt.bar(index + 0.4, y, alpha=0.2, width=0.3, color='green', edgecolor='blue', label='The Second Bar', lw=3);\n",
    "# plt.legend(loc='upper left');\n",
    "\n",
    "# plt.xticks(np.arange(4), ('A','B', 'C', 'D'), rotation=30)#rotation控制倾斜角度\n",
    "\n",
    "# plt.bar(x=index,height=y,color='red',width=0.3,);\n",
    "# plt.bar(x=0,bottom=index,height=0.5,width=y,color='red',orientation='horizontal');\n",
    "plt.barh(y,left=0,height=3,width=y,color='red',);"
   ]
  },
  {
   "cell_type": "code",
   "execution_count": 50,
   "metadata": {},
   "outputs": [
    {
     "data": {
      "image/png": "[encoded data removed]",
      "text/plain": [
       "<Figure size 432x288 with 1 Axes>"
      ]
     },
     "metadata": {
      "needs_background": "light"
     },
     "output_type": "display_data"
    }
   ],
   "source": [
    "sales_bj = [52,67,83,29,11]\n",
    "sales_sh = [32,87,63,10,43]\n",
    "\n",
    "bar_width = 0.3\n",
    "plt.bar(index, sales_bj,bar_width,color='b');\n",
    "plt.bar(index + bar_width, sales_sh,bar_width,color='r');"
   ]
  },
  {
   "cell_type": "code",
   "execution_count": 55,
   "metadata": {},
   "outputs": [
    {
     "data": {
      "image/png": "[encoded data removed]",
      "text/plain": [
       "<Figure size 432x288 with 1 Axes>"
      ]
     },
     "metadata": {
      "needs_background": "light"
     },
     "output_type": "display_data"
    }
   ],
   "source": [
    "plt.bar(index, sales_bj,bar_width,color='b');\n",
    "plt.bar(index, sales_sh,bar_width,color='r',bottom=sales_bj);"
   ]
  },
  {
   "cell_type": "code",
   "execution_count": null,
   "metadata": {},
   "outputs": [],
   "source": []
  }
 ],
 "metadata": {
  "kernelspec": {
   "display_name": "Python 3",
   "language": "python",
   "name": "python3"
  },
  "language_info": {
   "codemirror_mode": {
    "name": "ipython",
    "version": 3
   },
   "file_extension": ".py",
   "mimetype": "text/x-python",
   "name": "python",
   "nbconvert_exporter": "python",
   "pygments_lexer": "ipython3",
   "version": "3.6.9"
  }
 },
 "nbformat": 4,
 "nbformat_minor": 4
}
