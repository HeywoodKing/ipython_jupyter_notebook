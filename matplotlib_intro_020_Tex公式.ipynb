{
 "cells": [
  {
   "cell_type": "code",
   "execution_count": 3,
   "metadata": {},
   "outputs": [
    {
     "data": {
      "text/plain": [
       "<Figure size 432x288 with 0 Axes>"
      ]
     },
     "metadata": {},
     "output_type": "display_data"
    }
   ],
   "source": [
    "import numpy as np\n",
    "import matplotlib\n",
    "matplotlib.rcParams['text.usetex'] = True\n",
    "import matplotlib.pyplot as plt\n",
    "# %matplotlib inline\n",
    "\n",
    "# 面向对象绘制数学公式\n",
    "fig = plt.figure()\n",
    "# ax = plt.subplot(111)\n",
    "# ax = fig.add_subplot(111)\n",
    "# ax.set_xlim([1, 7])\n",
    "# ax.set_ylim([1, 5])\n",
    "\n",
    "\n",
    "# 例子一\n",
    "# ax.text(2, 4, r'$ \\alpha $');\n",
    "# ax.text(2, 4, r'$ \\alpha_i \\beta_j \\pi \\lambda \\omega$', size=20);\n",
    "\n",
    "\n",
    "# 例子二\n",
    "# ax.text(4, 4, r'$ sin(0)=cos(\\pi/2) $', size=20);\n",
    "# ax.text(4, 4, r'$ \\sin(0)=\\cos(\\frac{\\pi}{2}) $', size=20);\n",
    "# ax.text(4, 4, r'$ sin(0)=cos\\binom{\\pi}{2} $', size=13);\n",
    "# ax.text(4, 4, r'$ \\sin(0)=\\cos(\\stackrel{\\pi}{2}) $', size=16);\n",
    "\n",
    "        \n",
    "# 例子三\n",
    "# ax.text(2, 2, r'$ \\lim_{x \\rightarrow y}\\frac{1}{x^3} $', size=25);\n",
    "\n",
    "\n",
    "# 例子四\n",
    "# ax.text(4, 2, r'$ \\sqrt[4]{x}=\\sqrt{y} $', size=25);"
   ]
  },
  {
   "cell_type": "code",
   "execution_count": 10,
   "metadata": {},
   "outputs": [],
   "source": [
    "import numpy as np\n",
    "import matplotlib.pyplot as plt\n",
    "\n",
    "t = np.linspace(0.0, 1.0, 100)\n",
    "s = np.cos(4 * np.pi * t) + 2\n",
    "\n",
    "# print(t)\n",
    "# print(s)\n",
    "\n",
    "# fig, ax = plt.subplots(figsize=(6, 4), tight_layout=True)\n",
    "# ax.plot(t, s);\n",
    "\n",
    "# ax.set_xlabel(r'$ \\\\textbf{time (s)} $');\n",
    "# ax.set_ylabel(r'$ \\\\textit{Velocity (\\N{DEGREE SIGN}/sec)} $', fontsize=16);\n",
    "# ax.set_title(r'$ \\TeX\\ is Number $ \\displaystyle\\sum_{n=1}^\\infty\\frac{-e^{i\\pi}}{2^n}$!', fontsize=16, color='r')\n",
    "# plt.show()"
   ]
  },
  {
   "cell_type": "code",
   "execution_count": 17,
   "metadata": {},
   "outputs": [
    {
     "data": {
      "image/png": "[encoded data removed]",
      "text/plain": [
       "<Figure size 432x288 with 1 Axes>"
      ]
     },
     "metadata": {
      "needs_background": "light"
     },
     "output_type": "display_data"
    }
   ],
   "source": [
    "ax = plt.subplot(111)\n",
    "ax.text(0.1,0.8, r\"$ \\int_a^b f(x)\\mathrm{d}x $\", fontsize=30, color=\"red\");\n",
    "ax.text(0.1,0.3, r\"$ \\sum_{n=1}^\\infty\\frac{-e^{i\\pi}}{2^n}! $\", fontsize=30, color=\"green\");"
   ]
  },
  {
   "cell_type": "code",
   "execution_count": null,
   "metadata": {},
   "outputs": [],
   "source": []
  }
 ],
 "metadata": {
  "kernelspec": {
   "display_name": "Python 3",
   "language": "python",
   "name": "python3"
  },
  "language_info": {
   "codemirror_mode": {
    "name": "ipython",
    "version": 3
   },
   "file_extension": ".py",
   "mimetype": "text/x-python",
   "name": "python",
   "nbconvert_exporter": "python",
   "pygments_lexer": "ipython3",
   "version": "3.6.9"
  }
 },
 "nbformat": 4,
 "nbformat_minor": 4
}
