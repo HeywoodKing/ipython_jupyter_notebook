{
 "cells": [
  {
   "cell_type": "code",
   "execution_count": 5,
   "metadata": {},
   "outputs": [
    {
     "name": "stdout",
     "output_type": "stream",
     "text": [
      "[ 0  1  2  3  4  5  6  7  8  9 10 11 12 13 14 15 16 17 18 19 20 21 22 23\n",
      " 24 25 26 27 28 29 30 31 32 33 34 35 36 37 38 39 40 41 42 43 44 45 46 47\n",
      " 48 49 50 51 52 53 54 55 56 57 58 59 60 61 62 63 64 65 66 67 68 69 70 71\n",
      " 72 73 74 75 76 77 78 79 80 81 82 83 84 85 86 87 88 89 90 91 92 93 94 95\n",
      " 96 97 98 99]\n",
      "29.581745133573655\n",
      "30\n"
     ]
    }
   ],
   "source": [
    "import numpy as np\n",
    "\n",
    "# 50. 给定标量时，如何找到数组中最接近标量的值？\n",
    "# 提示: argmin\n",
    "z = np.arange(100)\n",
    "print(z)\n",
    "v = np.random.uniform(0,100)\n",
    "print(v)\n",
    "index = np.abs(z-v).argmin()\n",
    "print(z[index])"
   ]
  },
  {
   "cell_type": "code",
   "execution_count": 8,
   "metadata": {},
   "outputs": [
    {
     "name": "stdout",
     "output_type": "stream",
     "text": [
      "[((0., 0.), (0., 0., 0.)) ((0., 0.), (0., 0., 0.))\n",
      " ((0., 0.), (0., 0., 0.)) ((0., 0.), (0., 0., 0.))\n",
      " ((0., 0.), (0., 0., 0.)) ((0., 0.), (0., 0., 0.))\n",
      " ((0., 0.), (0., 0., 0.)) ((0., 0.), (0., 0., 0.))\n",
      " ((0., 0.), (0., 0., 0.)) ((0., 0.), (0., 0., 0.))]\n"
     ]
    },
    {
     "name": "stderr",
     "output_type": "stream",
     "text": [
      "/usr/local/lib/python3.6/dist-packages/ipykernel_launcher.py:3: FutureWarning: Passing (type, 1) or '1type' as a synonym of type is deprecated; in a future version of numpy, it will be understood as (type, (1,)) / '(1,)type'.\n",
      "  This is separate from the ipykernel package so we can avoid doing imports until\n"
     ]
    }
   ],
   "source": [
    "# 51. 创建一个表示位置(x,y)和颜色(r,g,b)的结构化数组\n",
    "# 提示: dtype\n",
    "z = np.zeros(10, [('position',[('x', float, 1), ('y', float, 1)]), ('color', [('r', float, 1), ('g', float, 1), ('b', float, 1)])])\n",
    "print(z)"
   ]
  },
  {
   "cell_type": "code",
   "execution_count": 9,
   "metadata": {},
   "outputs": [
    {
     "name": "stdout",
     "output_type": "stream",
     "text": [
      "[[0.         0.76584109 0.25079081 0.3797061  0.70114587 0.06297656\n",
      "  0.27914354 0.42213825 0.57730616 0.48673803]\n",
      " [0.76584109 0.         0.79216691 1.12849024 0.0786255  0.80073231\n",
      "  0.64638581 0.94419183 0.79430277 0.3421615 ]\n",
      " [0.25079081 0.79216691 0.         0.38590203 0.74559134 0.20242849\n",
      "  0.14842031 0.19019041 0.8148764  0.60382713]\n",
      " [0.3797061  1.12849024 0.38590203 0.         1.06932625 0.33177505\n",
      "  0.52348513 0.38837004 0.87173457 0.86625902]\n",
      " [0.70114587 0.0786255  0.74559134 1.06932625 0.         0.73923995\n",
      "  0.60303354 0.9061145  0.71712731 0.26406771]\n",
      " [0.06297656 0.80073231 0.20242849 0.33177505 0.73923995 0.\n",
      "  0.2609797  0.36377284 0.63890585 0.5367409 ]\n",
      " [0.27914354 0.64638581 0.14842031 0.52348513 0.60303354 0.2609797\n",
      "  0.         0.30658917 0.7741484  0.48717629]\n",
      " [0.42213825 0.94419183 0.19019041 0.38837004 0.9061145  0.36377284\n",
      "  0.30658917 0.         0.99720889 0.78763382]\n",
      " [0.57730616 0.79430277 0.8148764  0.87173457 0.71712731 0.63890585\n",
      "  0.7741484  0.99720889 0.         0.47574003]\n",
      " [0.48673803 0.3421615  0.60382713 0.86625902 0.26406771 0.5367409\n",
      "  0.48717629 0.78763382 0.47574003 0.        ]]\n"
     ]
    }
   ],
   "source": [
    "# 52. 对一个表示坐标形状为(100,2)的随机向量，找到点与点的距离\n",
    "# 提示: np.atleast_2d, T, np.sqrt\n",
    "z = np.random.random((10, 2))\n",
    "x,y = np.atleast_2d(z[:,0], z[:,1])\n",
    "D = np.sqrt((x - x.T)**2 + (y - y.T)**2)\n",
    "print(D)"
   ]
  },
  {
   "cell_type": "code",
   "execution_count": 12,
   "metadata": {},
   "outputs": [],
   "source": [
    "# import scipy\n",
    "# import scipy.spatial\n",
    "# D = scipy.spatial.distance.cdist(Z,Z)\n",
    "# print(D)\n"
   ]
  },
  {
   "cell_type": "code",
   "execution_count": 14,
   "metadata": {},
   "outputs": [
    {
     "name": "stdout",
     "output_type": "stream",
     "text": [
      "[0. 1. 2. 3. 4. 5. 6. 7. 8. 9.]\n"
     ]
    }
   ],
   "source": [
    "# 53. 如何将32位的浮点数(float)转换为对应的整数(integer)?\n",
    "# 提示: astype(copy=False)\n",
    "z = np.arange(10, dtype=np.int32)\n",
    "z = z.astype(np.float32, copy=False)\n",
    "print(z)"
   ]
  },
  {
   "cell_type": "code",
   "execution_count": 15,
   "metadata": {},
   "outputs": [],
   "source": [
    "# 54. 如何读取以下文件?\n",
    "# 提示: np.genfromtxt\n"
   ]
  },
  {
   "cell_type": "code",
   "execution_count": 20,
   "metadata": {},
   "outputs": [
    {
     "name": "stdout",
     "output_type": "stream",
     "text": [
      "(0, 0) 0\n",
      "(0, 1) 1\n",
      "(0, 2) 2\n",
      "(1, 0) 3\n",
      "(1, 1) 4\n",
      "(1, 2) 5\n",
      "(2, 0) 6\n",
      "(2, 1) 7\n",
      "(2, 2) 8\n",
      "++++++++++++++++++++++++++++++++++++++++++++++++++++++++++++++++++++++++++++++++++++++++++++++++++++\n",
      "(0, 0) 0\n",
      "(0, 1) 1\n",
      "(0, 2) 2\n",
      "(1, 0) 3\n",
      "(1, 1) 4\n",
      "(1, 2) 5\n",
      "(2, 0) 6\n",
      "(2, 1) 7\n",
      "(2, 2) 8\n"
     ]
    }
   ],
   "source": [
    "# 55. 对于numpy数组，enumerate的等价操作是什么？\n",
    "# 提示: np.ndenumerate, np.ndindex\n",
    "z = np.arange(9).reshape(3,3)\n",
    "# print(z)\n",
    "for index, value in np.ndenumerate(z):\n",
    "    print(index, value)\n",
    "\n",
    "print('+' * 100)\n",
    "\n",
    "for index in np.ndindex(z.shape):\n",
    "    print(index, z[index])"
   ]
  },
  {
   "cell_type": "code",
   "execution_count": 23,
   "metadata": {},
   "outputs": [
    {
     "name": "stdout",
     "output_type": "stream",
     "text": [
      "[[0.36787944 0.44822088 0.51979489 0.57375342 0.60279818 0.60279818\n",
      "  0.57375342 0.51979489 0.44822088 0.36787944]\n",
      " [0.44822088 0.54610814 0.63331324 0.69905581 0.73444367 0.73444367\n",
      "  0.69905581 0.63331324 0.54610814 0.44822088]\n",
      " [0.51979489 0.63331324 0.73444367 0.81068432 0.85172308 0.85172308\n",
      "  0.81068432 0.73444367 0.63331324 0.51979489]\n",
      " [0.57375342 0.69905581 0.81068432 0.89483932 0.9401382  0.9401382\n",
      "  0.89483932 0.81068432 0.69905581 0.57375342]\n",
      " [0.60279818 0.73444367 0.85172308 0.9401382  0.98773022 0.98773022\n",
      "  0.9401382  0.85172308 0.73444367 0.60279818]\n",
      " [0.60279818 0.73444367 0.85172308 0.9401382  0.98773022 0.98773022\n",
      "  0.9401382  0.85172308 0.73444367 0.60279818]\n",
      " [0.57375342 0.69905581 0.81068432 0.89483932 0.9401382  0.9401382\n",
      "  0.89483932 0.81068432 0.69905581 0.57375342]\n",
      " [0.51979489 0.63331324 0.73444367 0.81068432 0.85172308 0.85172308\n",
      "  0.81068432 0.73444367 0.63331324 0.51979489]\n",
      " [0.44822088 0.54610814 0.63331324 0.69905581 0.73444367 0.73444367\n",
      "  0.69905581 0.63331324 0.54610814 0.44822088]\n",
      " [0.36787944 0.44822088 0.51979489 0.57375342 0.60279818 0.60279818\n",
      "  0.57375342 0.51979489 0.44822088 0.36787944]]\n"
     ]
    }
   ],
   "source": [
    "# 56. 生成一个通用的二维Gaussian-like数组, Gaussian-like就叫类高斯,是从他的模型派生出来的\n",
    "# 提示: np.meshgrid, np.exp\n",
    "x, y = np.meshgrid(np.linspace(-1,1,10),np.linspace(-1,1,10))\n",
    "# print(x, y)\n",
    "D = np.sqrt(x*x + y*y)\n",
    "sigma, mu = 1.0, 0.0\n",
    "G = np.exp(-( (D-mu)**2 / ( 2.0 * sigma**2 ) ) )\n",
    "print(G)"
   ]
  },
  {
   "cell_type": "code",
   "execution_count": 28,
   "metadata": {},
   "outputs": [
    {
     "name": "stdout",
     "output_type": "stream",
     "text": [
      "[[0. 0. 0. 0. 0. 0. 0. 0. 0. 0.]\n",
      " [0. 0. 0. 0. 0. 0. 1. 0. 0. 0.]\n",
      " [0. 0. 0. 0. 0. 0. 0. 0. 0. 1.]\n",
      " [0. 0. 0. 0. 0. 0. 1. 0. 0. 0.]\n",
      " [0. 0. 0. 0. 0. 0. 0. 0. 0. 0.]\n",
      " [0. 0. 0. 0. 0. 0. 0. 0. 0. 0.]\n",
      " [0. 0. 0. 0. 0. 0. 0. 0. 0. 0.]\n",
      " [0. 0. 0. 0. 0. 0. 0. 0. 0. 0.]\n",
      " [1. 0. 0. 0. 0. 0. 1. 0. 0. 0.]\n",
      " [0. 0. 0. 0. 0. 0. 0. 0. 0. 0.]]\n"
     ]
    }
   ],
   "source": [
    "# 57. 对一个二维数组，如何在其内部随机放置p个元素?\n",
    "n = 10\n",
    "p = 5\n",
    "# z = np.random.random((n, n))\n",
    "z = np.zeros((n,n))\n",
    "np.put(z, np.random.choice(range(n*n), p, replace=False), 1)\n",
    "print(z)"
   ]
  },
  {
   "cell_type": "code",
   "execution_count": 31,
   "metadata": {},
   "outputs": [
    {
     "name": "stdout",
     "output_type": "stream",
     "text": [
      "[[-0.05995133 -0.11780407  0.14226199  0.37608052 -0.06051691  0.52536517\n",
      "  -0.25402503 -0.19893914 -0.11621454 -0.23625664]\n",
      " [ 0.33381751 -0.38534511 -0.36611542  0.22347357  0.41313203 -0.49412163\n",
      "  -0.0398661  -0.02271553  0.42026751 -0.08252682]\n",
      " [ 0.3754352   0.18041865 -0.38315198  0.03959153 -0.24641277 -0.28446046\n",
      "  -0.24593033  0.36686544  0.02682418  0.17082054]\n",
      " [ 0.19790254  0.00967829  0.01269939 -0.12343557  0.24452658 -0.18388734\n",
      "   0.38385887 -0.57674885  0.20404584 -0.16863975]\n",
      " [ 0.19709793  0.10075277  0.33460957  0.25815279 -0.46981304 -0.3311802\n",
      "   0.07822008  0.19265152 -0.39372434  0.03323292]]\n",
      "++++++++++++++++++++++++++++++++++++++++++++++++++++++++++++++++++++++++++++++++++++++++++++++++++++\n",
      "[[-0.05995133 -0.11780407  0.14226199  0.37608052 -0.06051691  0.52536517\n",
      "  -0.25402503 -0.19893914 -0.11621454 -0.23625664]\n",
      " [ 0.33381751 -0.38534511 -0.36611542  0.22347357  0.41313203 -0.49412163\n",
      "  -0.0398661  -0.02271553  0.42026751 -0.08252682]\n",
      " [ 0.3754352   0.18041865 -0.38315198  0.03959153 -0.24641277 -0.28446046\n",
      "  -0.24593033  0.36686544  0.02682418  0.17082054]\n",
      " [ 0.19790254  0.00967829  0.01269939 -0.12343557  0.24452658 -0.18388734\n",
      "   0.38385887 -0.57674885  0.20404584 -0.16863975]\n",
      " [ 0.19709793  0.10075277  0.33460957  0.25815279 -0.46981304 -0.3311802\n",
      "   0.07822008  0.19265152 -0.39372434  0.03323292]]\n"
     ]
    }
   ],
   "source": [
    "# 58. 减去一个矩阵中的每一行的平均值\n",
    "# 提示: mean(axis=,keepdims=)\n",
    "x = np.random.rand(5, 10)\n",
    "y = x - x.mean(axis=1, keepdims=True)\n",
    "print(y)\n",
    "print('+' * 100)\n",
    "y = x - x.mean(axis=1).reshape(-1, 1)\n",
    "print(y)"
   ]
  },
  {
   "cell_type": "code",
   "execution_count": 41,
   "metadata": {},
   "outputs": [
    {
     "name": "stdout",
     "output_type": "stream",
     "text": [
      "[[2 4 4]\n",
      " [1 6 4]\n",
      " [1 5 0]]\n",
      "[[2 4 4]\n",
      " [1 5 0]\n",
      " [1 6 4]]\n"
     ]
    }
   ],
   "source": [
    "# 59. 如何通过第n列对一个数组进行排序?\n",
    "# 提示: argsort\n",
    "z = np.random.randint(0, 10, (3,3))\n",
    "print(z)\n",
    "# 3行3列的二位数组，取第2列，按照第二列的大小排序\n",
    "print(z[z[:,1].argsort()])"
   ]
  },
  {
   "cell_type": "code",
   "execution_count": 55,
   "metadata": {},
   "outputs": [
    {
     "name": "stdout",
     "output_type": "stream",
     "text": [
      "[[2 0 1 0 1 1 1 2 0 2]\n",
      " [2 0 1 1 2 0 2 1 0 1]\n",
      " [0 2 2 2 1 1 2 0 1 1]]\n",
      "False\n"
     ]
    }
   ],
   "source": [
    "# 60. 如何检查一个二维数组是否有空列？\n",
    "# 提示: any, ~\n",
    "z = np.random.randint(0, 3, (3, 10))\n",
    "print(z)\n",
    "print((~z.any(axis=0)).any())"
   ]
  },
  {
   "cell_type": "code",
   "execution_count": 62,
   "metadata": {},
   "outputs": [
    {
     "name": "stdout",
     "output_type": "stream",
     "text": [
      "[0.22048527 0.87064375 0.76185277 0.31409015 0.71299635 0.80996186\n",
      " 0.36506606 0.02911985 0.28266806 0.4430409 ]\n",
      "0.4430408993346391\n"
     ]
    }
   ],
   "source": [
    "# 61. 从数组中的给定值中找出最近的值\n",
    "# 提示: np.abs, argmin, flat\n",
    "flag = 0.5\n",
    "# z = np.random.random(10)\n",
    "z = np.random.uniform(0,1,10)\n",
    "y = z.flat[np.abs(z-flag).argmin()]\n",
    "print(z)\n",
    "print(y)"
   ]
  },
  {
   "cell_type": "code",
   "execution_count": 70,
   "metadata": {},
   "outputs": [
    {
     "name": "stdout",
     "output_type": "stream",
     "text": [
      "[[0]\n",
      " [1]\n",
      " [2]]\n",
      "[[0 1 2]]\n",
      "0 0 0\n",
      "0 1 1\n",
      "0 2 2\n",
      "1 0 1\n",
      "1 1 2\n",
      "1 2 3\n",
      "2 0 2\n",
      "2 1 3\n",
      "2 2 4\n",
      "++++++++++++++++++++++++++++++++++++++++++++++++++++++++++++++++++++++++++++++++++++++++++++++++++++\n",
      "[[0 1 2]\n",
      " [1 2 3]\n",
      " [2 3 4]]\n"
     ]
    }
   ],
   "source": [
    "# 62. 如何用迭代器(iterator)计算两个分别具有形状(1,3)和(3,1)的数组?\n",
    "# 提示: np.nditer\n",
    "A = np.arange(3).reshape(3, 1)\n",
    "B = np.arange(3).reshape(1, 3)\n",
    "it = np.nditer([A, B, None])\n",
    "print(A)\n",
    "print(B)\n",
    "for x,y,z in it:\n",
    "    print(x, y, z)\n",
    "    z[...] = x + y\n",
    "\n",
    "print('+' * 100)\n",
    "print(it.operands[2])"
   ]
  },
  {
   "cell_type": "code",
   "execution_count": 73,
   "metadata": {},
   "outputs": [
    {
     "name": "stdout",
     "output_type": "stream",
     "text": [
      "range_10\n",
      "no name\n"
     ]
    }
   ],
   "source": [
    "# 63. 创建一个具有name属性的数组类\n",
    "# 提示: class方法\n",
    "class NamedArray(np.ndarray):\n",
    "    def __new__(cls, array, name=\"no name\"):\n",
    "        obj = np.asarray(array).view(cls)\n",
    "        obj.name = name\n",
    "        return obj\n",
    "    \n",
    "    def __array_finalize__(self, obj):\n",
    "        if obj is None:\n",
    "            return\n",
    "        self.info = getattr(obj, 'name', 'no name')\n",
    "\n",
    "z = NamedArray(np.arange(10), 'range_10')\n",
    "print(z.name)\n",
    "z = NamedArray(np.arange(10))\n",
    "print(z.name)"
   ]
  },
  {
   "cell_type": "code",
   "execution_count": 87,
   "metadata": {},
   "outputs": [
    {
     "name": "stdout",
     "output_type": "stream",
     "text": [
      "[3. 3. 2. 3. 3. 5. 3. 2. 2. 4.]\n",
      "[3. 3. 2. 3. 3. 5. 3. 2. 2. 4.]\n"
     ]
    }
   ],
   "source": [
    "# 64. 考虑一个给定的向量，如何对由第二个向量索引的每个元素加1(小心重复的索引)?\n",
    "# 提示: np.bincount | np.add.at\n",
    "z = np.ones(10)\n",
    "l = np.random.randint(0, len(z), 20)\n",
    "r = z + np.bincount(l, minlength=len(z))\n",
    "print(r)\n",
    "\n",
    "np.add.at(z, l, 1)\n",
    "print(z)"
   ]
  },
  {
   "cell_type": "code",
   "execution_count": 88,
   "metadata": {},
   "outputs": [
    {
     "name": "stdout",
     "output_type": "stream",
     "text": [
      "[0. 7. 0. 6. 5. 0. 0. 0. 0. 3.]\n"
     ]
    }
   ],
   "source": [
    "# 65. 根据索引列表(I)，如何将向量(X)的元素累加到数组(F)?\n",
    "l = [1,3,9,3,4,1]\n",
    "X = [1,2,3,4,5,6]\n",
    "F = np.bincount(l, X)\n",
    "print(F)"
   ]
  }
 ],
 "metadata": {
  "kernelspec": {
   "display_name": "Python 3",
   "language": "python",
   "name": "python3"
  },
  "language_info": {
   "codemirror_mode": {
    "name": "ipython",
    "version": 3
   },
   "file_extension": ".py",
   "mimetype": "text/x-python",
   "name": "python",
   "nbconvert_exporter": "python",
   "pygments_lexer": "ipython3",
   "version": "3.6.9"
  }
 },
 "nbformat": 4,
 "nbformat_minor": 4
}
