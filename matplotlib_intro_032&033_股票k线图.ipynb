{
 "cells": [
  {
   "cell_type": "code",
   "execution_count": 48,
   "metadata": {},
   "outputs": [
    {
     "name": "stdout",
     "output_type": "stream",
     "text": [
      "No module named 'mplfinance'\n"
     ]
    },
    {
     "ename": "NameError",
     "evalue": "name 'candlestick_ohlc' is not defined",
     "output_type": "error",
     "traceback": [
      "\u001b[0;31m---------------------------------------------------------------------------\u001b[0m",
      "\u001b[0;31mNameError\u001b[0m                                 Traceback (most recent call last)",
      "\u001b[0;32m<ipython-input-48-a55144f46d46>\u001b[0m in \u001b[0;36m<module>\u001b[0;34m\u001b[0m\n\u001b[1;32m     43\u001b[0m \u001b[0max_main\u001b[0m\u001b[0;34m.\u001b[0m\u001b[0maxes\u001b[0m\u001b[0;34m.\u001b[0m\u001b[0mget_xaxis\u001b[0m\u001b[0;34m(\u001b[0m\u001b[0;34m)\u001b[0m\u001b[0;34m.\u001b[0m\u001b[0mset_visible\u001b[0m\u001b[0;34m(\u001b[0m\u001b[0;32mFalse\u001b[0m\u001b[0;34m)\u001b[0m\u001b[0;34m\u001b[0m\u001b[0;34m\u001b[0m\u001b[0m\n\u001b[1;32m     44\u001b[0m \u001b[0;31m# 绘制股票K线图\u001b[0m\u001b[0;34m\u001b[0m\u001b[0;34m\u001b[0m\u001b[0;34m\u001b[0m\u001b[0m\n\u001b[0;32m---> 45\u001b[0;31m \u001b[0mcandlestick_ohlc\u001b[0m\u001b[0;34m(\u001b[0m\u001b[0max_main\u001b[0m\u001b[0;34m,\u001b[0m \u001b[0mquotes\u001b[0m\u001b[0;34m,\u001b[0m \u001b[0mwidth\u001b[0m\u001b[0;34m=\u001b[0m\u001b[0;36m0.6\u001b[0m\u001b[0;34m,\u001b[0m \u001b[0mcolorup\u001b[0m\u001b[0;34m=\u001b[0m\u001b[0;34m'r'\u001b[0m\u001b[0;34m,\u001b[0m \u001b[0mcolordown\u001b[0m\u001b[0;34m=\u001b[0m\u001b[0;34m'g'\u001b[0m\u001b[0;34m)\u001b[0m\u001b[0;34m\u001b[0m\u001b[0;34m\u001b[0m\u001b[0m\n\u001b[0m\u001b[1;32m     46\u001b[0m \u001b[0;34m\u001b[0m\u001b[0m\n\u001b[1;32m     47\u001b[0m \u001b[0max_main\u001b[0m\u001b[0;34m.\u001b[0m\u001b[0mset_title\u001b[0m\u001b[0;34m(\u001b[0m\u001b[0;34m'Stock INTC Price and Volumn'\u001b[0m\u001b[0;34m)\u001b[0m\u001b[0;34m\u001b[0m\u001b[0;34m\u001b[0m\u001b[0m\n",
      "\u001b[0;31mNameError\u001b[0m: name 'candlestick_ohlc' is not defined"
     ]
    },
    {
     "data": {
      "text/plain": [
       "<Figure size 576x576 with 0 Axes>"
      ]
     },
     "metadata": {},
     "output_type": "display_data"
    },
    {
     "data": {
      "image/png": "[encoded data removed]",
      "text/plain": [
       "<Figure size 432x288 with 2 Axes>"
      ]
     },
     "metadata": {},
     "output_type": "display_data"
    }
   ],
   "source": [
    "import numpy as np\n",
    "import matplotlib.pyplot as plt\n",
    "# import mplfinance as mpf\n",
    "try:\n",
    "    from mplfinance import candlestick_ohlc\n",
    "except Exception as ex:\n",
    "    print(ex)\n",
    "\n",
    "plt.style.use('ggplot')\n",
    "plt.figure(figsize=(8,8))\n",
    "\n",
    "start_date = '2019-12-01'\n",
    "end_date = '2020-03-20'\n",
    "\n",
    "# quotes = quotes_historical_ohlc('INTC', start_date, end_date)\n",
    "# print(quotes)\n",
    "\n",
    "quotes = [(1312323, 18.00, 190, 100, 99, 5454545)]\n",
    "# print(np.random.randint((10, 50, 2)))\n",
    "\n",
    "dates = np.array([])\n",
    "volumns = np.array([])\n",
    "\n",
    "for item in quotes:\n",
    "    dates = np.append(dates, item[0])\n",
    "    volumns = np.append(volumns, item[5])\n",
    "\n",
    "\n",
    "left, width = 0.1, 0.8\n",
    "\n",
    "rect_vol = [left, 0.1, width, 0.26]\n",
    "rect_main = [left, 0.4, width, 0.5]\n",
    "\n",
    "fig = plt.figure()\n",
    "\n",
    "ax_vol = fig.add_axes(rect_vol)\n",
    "ax_vol.fill_between(dates, volumns, color='y')\n",
    "ax_vol.xaxis_date()\n",
    "plt.setp(ax_vol.get_xticklabels(), rotation=30, horizontalalignment='right')\n",
    "\n",
    "ax_main = fig.add_axes(rect_main)\n",
    "ax_main.axes.get_xaxis().set_visible(False)\n",
    "# 绘制股票K线图\n",
    "candlestick_ohlc(ax_main, quotes, width=0.6, colorup='r', colordown='g')\n",
    "\n",
    "ax_main.set_title('Stock INTC Price and Volumn')\n",
    "\n",
    "# 画图\n",
    "# fig, axes = plt.subplots(nrows=1, ncols=1, figsize=(20,8), dpi=80)\n",
    "# 第一个参数axes\n",
    "# candlestick_ochl(axes, day, width=0.3, colorup=\"r\", colordown=\"g\")\n",
    "\n",
    "plt.show()"
   ]
  }
 ],
 "metadata": {
  "kernelspec": {
   "display_name": "Python 3",
   "language": "python",
   "name": "python3"
  },
  "language_info": {
   "codemirror_mode": {
    "name": "ipython",
    "version": 3
   },
   "file_extension": ".py",
   "mimetype": "text/x-python",
   "name": "python",
   "nbconvert_exporter": "python",
   "pygments_lexer": "ipython3",
   "version": "3.6.9"
  }
 },
 "nbformat": 4,
 "nbformat_minor": 4
}
