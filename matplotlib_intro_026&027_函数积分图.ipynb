{
 "cells": [
  {
   "cell_type": "code",
   "execution_count": 58,
   "metadata": {},
   "outputs": [
    {
     "data": {
      "image/png": "[encoded data removed]",
      "text/plain": [
       "<Figure size 432x288 with 1 Axes>"
      ]
     },
     "metadata": {
      "needs_background": "light"
     },
     "output_type": "display_data"
    }
   ],
   "source": [
    "import numpy as np\n",
    "import matplotlib.pyplot as plt\n",
    "from matplotlib.patches import Polygon\n",
    "\n",
    "def func(x):\n",
    "    return -(x-2)*(x-8) + 40\n",
    "\n",
    "# x = np.arange(0, 10)\n",
    "x = np.linspace(0, 10)\n",
    "y = func(x)\n",
    "fig, ax = plt.subplots()\n",
    "plt.plot(x, y, 'r', linewidth=2)\n",
    "a = 2.5\n",
    "b = 8\n",
    "ax.set_xticks([a, b])\n",
    "ax.set_yticks([])\n",
    "ax.set_xticklabels(['$a$', '$b$'])\n",
    "# ax.set_xticklabels([])\n",
    "\n",
    "ix = np.linspace(a, b)\n",
    "iy = func(ix)\n",
    "ixy = zip(ix, iy)\n",
    "\n",
    "verts = [(a, 0)]\n",
    "verts.extend(ixy)\n",
    "verts.extend([(b, 0)])\n",
    "# print(verts)\n",
    "\n",
    "\n",
    "poly = Polygon(verts,  facecolor='0.9', edgecolor='0.5')\n",
    "ax.add_patch(poly)\n",
    "\n",
    "plt.figtext(0.9, 0.05, '$x$')\n",
    "plt.figtext(0.09, 0.9, '$y$')\n",
    "\n",
    "x_math = (a + b) * 0.5\n",
    "y_math = 33\n",
    "ax.text(x_math, y_math, r'$\\int_a^b(-(x-2)*(x-8) + 40)dx $', size=14, horizontalalignment='center')\n",
    "plt.xlim(xmin=1, xmax=9)\n",
    "plt.ylim(ymin=20)\n",
    "\n",
    "plt.show()"
   ]
  },
  {
   "cell_type": "code",
   "execution_count": null,
   "metadata": {},
   "outputs": [],
   "source": []
  }
 ],
 "metadata": {
  "kernelspec": {
   "display_name": "Python 3",
   "language": "python",
   "name": "python3"
  },
  "language_info": {
   "codemirror_mode": {
    "name": "ipython",
    "version": 3
   },
   "file_extension": ".py",
   "mimetype": "text/x-python",
   "name": "python",
   "nbconvert_exporter": "python",
   "pygments_lexer": "ipython3",
   "version": "3.6.9"
  }
 },
 "nbformat": 4,
 "nbformat_minor": 4
}
